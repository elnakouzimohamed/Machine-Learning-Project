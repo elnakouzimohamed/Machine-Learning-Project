{
 "cells": [
  {
   "cell_type": "markdown",
   "metadata": {
    "colab_type": "text",
    "id": "A7LN-Km28u3J"
   },
   "source": [
    "# Hand movement classification using EMG signals"
   ]
  },
  {
   "cell_type": "code",
   "execution_count": 8,
   "metadata": {
    "colab": {},
    "colab_type": "code",
    "executionInfo": {
     "elapsed": 6971,
     "status": "ok",
     "timestamp": 1596812431151,
     "user": {
      "displayName": "Alejandro Mora Rubio",
      "photoUrl": "",
      "userId": "07961288293677001436"
     },
     "user_tz": 300
    },
    "id": "oF44MP3cCciW"
   },
   "outputs": [
    {
     "name": "stdout",
     "output_type": "stream",
     "text": [
      "['C:\\\\Users\\\\ENVY\\\\Desktop\\\\MachineLearningProject\\\\emg-signal-classification\\\\EMG_data_for_gestures-master\\\\EMG_data_for_gestures-master\\\\01\\\\1_raw_data_13-12_22.03.16.txt', 'C:\\\\Users\\\\ENVY\\\\Desktop\\\\MachineLearningProject\\\\emg-signal-classification\\\\EMG_data_for_gestures-master\\\\EMG_data_for_gestures-master\\\\01\\\\2_raw_data_13-13_22.03.16.txt', 'C:\\\\Users\\\\ENVY\\\\Desktop\\\\MachineLearningProject\\\\emg-signal-classification\\\\EMG_data_for_gestures-master\\\\EMG_data_for_gestures-master\\\\02\\\\1_raw_data_14-19_22.03.16.txt', 'C:\\\\Users\\\\ENVY\\\\Desktop\\\\MachineLearningProject\\\\emg-signal-classification\\\\EMG_data_for_gestures-master\\\\EMG_data_for_gestures-master\\\\02\\\\2_raw_data_14-21_22.03.16.txt', 'C:\\\\Users\\\\ENVY\\\\Desktop\\\\MachineLearningProject\\\\emg-signal-classification\\\\EMG_data_for_gestures-master\\\\EMG_data_for_gestures-master\\\\03\\\\1_raw_data_09-32_11.04.16.txt', 'C:\\\\Users\\\\ENVY\\\\Desktop\\\\MachineLearningProject\\\\emg-signal-classification\\\\EMG_data_for_gestures-master\\\\EMG_data_for_gestures-master\\\\03\\\\2_raw_data_09-34_11.04.16.txt', 'C:\\\\Users\\\\ENVY\\\\Desktop\\\\MachineLearningProject\\\\emg-signal-classification\\\\EMG_data_for_gestures-master\\\\EMG_data_for_gestures-master\\\\04\\\\1_raw_data_18-02_24.04.16.txt', 'C:\\\\Users\\\\ENVY\\\\Desktop\\\\MachineLearningProject\\\\emg-signal-classification\\\\EMG_data_for_gestures-master\\\\EMG_data_for_gestures-master\\\\04\\\\2_raw_data_18-03_24.04.16.txt', 'C:\\\\Users\\\\ENVY\\\\Desktop\\\\MachineLearningProject\\\\emg-signal-classification\\\\EMG_data_for_gestures-master\\\\EMG_data_for_gestures-master\\\\05\\\\1_raw_data_10-28_30.03.16.txt', 'C:\\\\Users\\\\ENVY\\\\Desktop\\\\MachineLearningProject\\\\emg-signal-classification\\\\EMG_data_for_gestures-master\\\\EMG_data_for_gestures-master\\\\05\\\\2_raw_data_10-29_30.03.16.txt', 'C:\\\\Users\\\\ENVY\\\\Desktop\\\\MachineLearningProject\\\\emg-signal-classification\\\\EMG_data_for_gestures-master\\\\EMG_data_for_gestures-master\\\\06\\\\1_raw_data_10-38_11.04.16.txt', 'C:\\\\Users\\\\ENVY\\\\Desktop\\\\MachineLearningProject\\\\emg-signal-classification\\\\EMG_data_for_gestures-master\\\\EMG_data_for_gestures-master\\\\06\\\\2_raw_data_10-40_11.04.16.txt', 'C:\\\\Users\\\\ENVY\\\\Desktop\\\\MachineLearningProject\\\\emg-signal-classification\\\\EMG_data_for_gestures-master\\\\EMG_data_for_gestures-master\\\\07\\\\1_raw_data_18-48_22.03.16.txt', 'C:\\\\Users\\\\ENVY\\\\Desktop\\\\MachineLearningProject\\\\emg-signal-classification\\\\EMG_data_for_gestures-master\\\\EMG_data_for_gestures-master\\\\07\\\\2_raw_data_18-50_22.03.16.txt', 'C:\\\\Users\\\\ENVY\\\\Desktop\\\\MachineLearningProject\\\\emg-signal-classification\\\\EMG_data_for_gestures-master\\\\EMG_data_for_gestures-master\\\\08\\\\1_raw_data_12-14_23.03.16.txt', 'C:\\\\Users\\\\ENVY\\\\Desktop\\\\MachineLearningProject\\\\emg-signal-classification\\\\EMG_data_for_gestures-master\\\\EMG_data_for_gestures-master\\\\08\\\\2_raw_data_12-16_23.03.16.txt', 'C:\\\\Users\\\\ENVY\\\\Desktop\\\\MachineLearningProject\\\\emg-signal-classification\\\\EMG_data_for_gestures-master\\\\EMG_data_for_gestures-master\\\\09\\\\1_raw_data_12-41_23.03.16.txt', 'C:\\\\Users\\\\ENVY\\\\Desktop\\\\MachineLearningProject\\\\emg-signal-classification\\\\EMG_data_for_gestures-master\\\\EMG_data_for_gestures-master\\\\09\\\\2_raw_data_12-43_23.03.16.txt', 'C:\\\\Users\\\\ENVY\\\\Desktop\\\\MachineLearningProject\\\\emg-signal-classification\\\\EMG_data_for_gestures-master\\\\EMG_data_for_gestures-master\\\\10\\\\1_raw_data_11-08_21.03.16.txt', 'C:\\\\Users\\\\ENVY\\\\Desktop\\\\MachineLearningProject\\\\emg-signal-classification\\\\EMG_data_for_gestures-master\\\\EMG_data_for_gestures-master\\\\10\\\\2_raw_data_11-10_21.03.16.txt', 'C:\\\\Users\\\\ENVY\\\\Desktop\\\\MachineLearningProject\\\\emg-signal-classification\\\\EMG_data_for_gestures-master\\\\EMG_data_for_gestures-master\\\\11\\\\1_raw_data_13-11_18.03.16.txt', 'C:\\\\Users\\\\ENVY\\\\Desktop\\\\MachineLearningProject\\\\emg-signal-classification\\\\EMG_data_for_gestures-master\\\\EMG_data_for_gestures-master\\\\11\\\\2_raw_data_13-13_18.03.16.txt', 'C:\\\\Users\\\\ENVY\\\\Desktop\\\\MachineLearningProject\\\\emg-signal-classification\\\\EMG_data_for_gestures-master\\\\EMG_data_for_gestures-master\\\\12\\\\1_raw_data_11-35_28.03.16.txt', 'C:\\\\Users\\\\ENVY\\\\Desktop\\\\MachineLearningProject\\\\emg-signal-classification\\\\EMG_data_for_gestures-master\\\\EMG_data_for_gestures-master\\\\12\\\\2_raw_data_11-36_28.03.16.txt', 'C:\\\\Users\\\\ENVY\\\\Desktop\\\\MachineLearningProject\\\\emg-signal-classification\\\\EMG_data_for_gestures-master\\\\EMG_data_for_gestures-master\\\\13\\\\1_raw_data_13-26_21.03.16.txt', 'C:\\\\Users\\\\ENVY\\\\Desktop\\\\MachineLearningProject\\\\emg-signal-classification\\\\EMG_data_for_gestures-master\\\\EMG_data_for_gestures-master\\\\13\\\\2_raw_data_13-29_21.03.16.txt', 'C:\\\\Users\\\\ENVY\\\\Desktop\\\\MachineLearningProject\\\\emg-signal-classification\\\\EMG_data_for_gestures-master\\\\EMG_data_for_gestures-master\\\\14\\\\1_raw_data_09-50_15.04.16.txt', 'C:\\\\Users\\\\ENVY\\\\Desktop\\\\MachineLearningProject\\\\emg-signal-classification\\\\EMG_data_for_gestures-master\\\\EMG_data_for_gestures-master\\\\14\\\\2_raw_data_09-51_15.04.16.txt', 'C:\\\\Users\\\\ENVY\\\\Desktop\\\\MachineLearningProject\\\\emg-signal-classification\\\\EMG_data_for_gestures-master\\\\EMG_data_for_gestures-master\\\\15\\\\1_raw_data_08-49_13.04.16.txt', 'C:\\\\Users\\\\ENVY\\\\Desktop\\\\MachineLearningProject\\\\emg-signal-classification\\\\EMG_data_for_gestures-master\\\\EMG_data_for_gestures-master\\\\15\\\\2_raw_data_08-51_13.04.16.txt', 'C:\\\\Users\\\\ENVY\\\\Desktop\\\\MachineLearningProject\\\\emg-signal-classification\\\\EMG_data_for_gestures-master\\\\EMG_data_for_gestures-master\\\\16\\\\1_raw_data_12-12_25.04.16.txt', 'C:\\\\Users\\\\ENVY\\\\Desktop\\\\MachineLearningProject\\\\emg-signal-classification\\\\EMG_data_for_gestures-master\\\\EMG_data_for_gestures-master\\\\16\\\\2_raw_data_12-14_25.04.16.txt', 'C:\\\\Users\\\\ENVY\\\\Desktop\\\\MachineLearningProject\\\\emg-signal-classification\\\\EMG_data_for_gestures-master\\\\EMG_data_for_gestures-master\\\\17\\\\1_raw_data_11-19_23.03.16.txt', 'C:\\\\Users\\\\ENVY\\\\Desktop\\\\MachineLearningProject\\\\emg-signal-classification\\\\EMG_data_for_gestures-master\\\\EMG_data_for_gestures-master\\\\17\\\\2_raw_data_11-20_23.03.16.txt', 'C:\\\\Users\\\\ENVY\\\\Desktop\\\\MachineLearningProject\\\\emg-signal-classification\\\\EMG_data_for_gestures-master\\\\EMG_data_for_gestures-master\\\\18\\\\1_raw_data_12-35_21.03.16.txt', 'C:\\\\Users\\\\ENVY\\\\Desktop\\\\MachineLearningProject\\\\emg-signal-classification\\\\EMG_data_for_gestures-master\\\\EMG_data_for_gestures-master\\\\18\\\\2_raw_data_12-37_21.03.16.txt', 'C:\\\\Users\\\\ENVY\\\\Desktop\\\\MachineLearningProject\\\\emg-signal-classification\\\\EMG_data_for_gestures-master\\\\EMG_data_for_gestures-master\\\\19\\\\1_raw_data_12-10_26.04.16.txt', 'C:\\\\Users\\\\ENVY\\\\Desktop\\\\MachineLearningProject\\\\emg-signal-classification\\\\EMG_data_for_gestures-master\\\\EMG_data_for_gestures-master\\\\19\\\\2_raw_data_12-11_26.04.16.txt', 'C:\\\\Users\\\\ENVY\\\\Desktop\\\\MachineLearningProject\\\\emg-signal-classification\\\\EMG_data_for_gestures-master\\\\EMG_data_for_gestures-master\\\\20\\\\1_raw_data_11-41_22.03.16.txt', 'C:\\\\Users\\\\ENVY\\\\Desktop\\\\MachineLearningProject\\\\emg-signal-classification\\\\EMG_data_for_gestures-master\\\\EMG_data_for_gestures-master\\\\20\\\\2_raw_data_11-43_22.03.16.txt', 'C:\\\\Users\\\\ENVY\\\\Desktop\\\\MachineLearningProject\\\\emg-signal-classification\\\\EMG_data_for_gestures-master\\\\EMG_data_for_gestures-master\\\\21\\\\1_raw_data_20-28_24.04.16.txt', 'C:\\\\Users\\\\ENVY\\\\Desktop\\\\MachineLearningProject\\\\emg-signal-classification\\\\EMG_data_for_gestures-master\\\\EMG_data_for_gestures-master\\\\21\\\\2_raw_data_20-30_24.04.16.txt', 'C:\\\\Users\\\\ENVY\\\\Desktop\\\\MachineLearningProject\\\\emg-signal-classification\\\\EMG_data_for_gestures-master\\\\EMG_data_for_gestures-master\\\\22\\\\1_raw_data_12-37_28.03.16.txt', 'C:\\\\Users\\\\ENVY\\\\Desktop\\\\MachineLearningProject\\\\emg-signal-classification\\\\EMG_data_for_gestures-master\\\\EMG_data_for_gestures-master\\\\22\\\\2_raw_data_12-39_28.03.16.txt', 'C:\\\\Users\\\\ENVY\\\\Desktop\\\\MachineLearningProject\\\\emg-signal-classification\\\\EMG_data_for_gestures-master\\\\EMG_data_for_gestures-master\\\\23\\\\1_raw_data_13-18_05.04.16.txt', 'C:\\\\Users\\\\ENVY\\\\Desktop\\\\MachineLearningProject\\\\emg-signal-classification\\\\EMG_data_for_gestures-master\\\\EMG_data_for_gestures-master\\\\23\\\\2_raw_data_13-19_05.04.16.txt', 'C:\\\\Users\\\\ENVY\\\\Desktop\\\\MachineLearningProject\\\\emg-signal-classification\\\\EMG_data_for_gestures-master\\\\EMG_data_for_gestures-master\\\\24\\\\1_raw_data_10-16_12.04.16.txt', 'C:\\\\Users\\\\ENVY\\\\Desktop\\\\MachineLearningProject\\\\emg-signal-classification\\\\EMG_data_for_gestures-master\\\\EMG_data_for_gestures-master\\\\24\\\\2_raw_data_10-17_12.04.16.txt', 'C:\\\\Users\\\\ENVY\\\\Desktop\\\\MachineLearningProject\\\\emg-signal-classification\\\\EMG_data_for_gestures-master\\\\EMG_data_for_gestures-master\\\\25\\\\1_raw_data_14-51_24.04.16.txt', 'C:\\\\Users\\\\ENVY\\\\Desktop\\\\MachineLearningProject\\\\emg-signal-classification\\\\EMG_data_for_gestures-master\\\\EMG_data_for_gestures-master\\\\25\\\\2_raw_data_14-53_24.04.16.txt', 'C:\\\\Users\\\\ENVY\\\\Desktop\\\\MachineLearningProject\\\\emg-signal-classification\\\\EMG_data_for_gestures-master\\\\EMG_data_for_gestures-master\\\\26\\\\1_raw_data_10-22_29.03.16.txt', 'C:\\\\Users\\\\ENVY\\\\Desktop\\\\MachineLearningProject\\\\emg-signal-classification\\\\EMG_data_for_gestures-master\\\\EMG_data_for_gestures-master\\\\26\\\\2_raw_data_10-23_29.03.16.txt', 'C:\\\\Users\\\\ENVY\\\\Desktop\\\\MachineLearningProject\\\\emg-signal-classification\\\\EMG_data_for_gestures-master\\\\EMG_data_for_gestures-master\\\\27\\\\1_raw_data_12-19_06.04.16.txt', 'C:\\\\Users\\\\ENVY\\\\Desktop\\\\MachineLearningProject\\\\emg-signal-classification\\\\EMG_data_for_gestures-master\\\\EMG_data_for_gestures-master\\\\27\\\\2_raw_data_12-20_06.04.16.txt', 'C:\\\\Users\\\\ENVY\\\\Desktop\\\\MachineLearningProject\\\\emg-signal-classification\\\\EMG_data_for_gestures-master\\\\EMG_data_for_gestures-master\\\\28\\\\1_raw_data_12-10_15.04.16.txt', 'C:\\\\Users\\\\ENVY\\\\Desktop\\\\MachineLearningProject\\\\emg-signal-classification\\\\EMG_data_for_gestures-master\\\\EMG_data_for_gestures-master\\\\28\\\\2_raw_data_12-11_15.04.16.txt', 'C:\\\\Users\\\\ENVY\\\\Desktop\\\\MachineLearningProject\\\\emg-signal-classification\\\\EMG_data_for_gestures-master\\\\EMG_data_for_gestures-master\\\\29\\\\1_raw_data_10-17_15.04.16.txt', 'C:\\\\Users\\\\ENVY\\\\Desktop\\\\MachineLearningProject\\\\emg-signal-classification\\\\EMG_data_for_gestures-master\\\\EMG_data_for_gestures-master\\\\29\\\\2_raw_data_10-18_15.04.16.txt', 'C:\\\\Users\\\\ENVY\\\\Desktop\\\\MachineLearningProject\\\\emg-signal-classification\\\\EMG_data_for_gestures-master\\\\EMG_data_for_gestures-master\\\\30\\\\1_raw_data_09-49_21.03.16.txt', 'C:\\\\Users\\\\ENVY\\\\Desktop\\\\MachineLearningProject\\\\emg-signal-classification\\\\EMG_data_for_gestures-master\\\\EMG_data_for_gestures-master\\\\30\\\\2_raw_data_09-50_21.03.16.txt', 'C:\\\\Users\\\\ENVY\\\\Desktop\\\\MachineLearningProject\\\\emg-signal-classification\\\\EMG_data_for_gestures-master\\\\EMG_data_for_gestures-master\\\\31\\\\1_raw_data_11-15_11.04.16.txt', 'C:\\\\Users\\\\ENVY\\\\Desktop\\\\MachineLearningProject\\\\emg-signal-classification\\\\EMG_data_for_gestures-master\\\\EMG_data_for_gestures-master\\\\31\\\\2_raw_data_11-16_11.04.16.txt', 'C:\\\\Users\\\\ENVY\\\\Desktop\\\\MachineLearningProject\\\\emg-signal-classification\\\\EMG_data_for_gestures-master\\\\EMG_data_for_gestures-master\\\\32\\\\1_raw_data_12-04_27.04.16.txt', 'C:\\\\Users\\\\ENVY\\\\Desktop\\\\MachineLearningProject\\\\emg-signal-classification\\\\EMG_data_for_gestures-master\\\\EMG_data_for_gestures-master\\\\32\\\\2_raw_data_12-06_27.04.16.txt', 'C:\\\\Users\\\\ENVY\\\\Desktop\\\\MachineLearningProject\\\\emg-signal-classification\\\\EMG_data_for_gestures-master\\\\EMG_data_for_gestures-master\\\\33\\\\1_raw_data_09-49_12.04.16.txt', 'C:\\\\Users\\\\ENVY\\\\Desktop\\\\MachineLearningProject\\\\emg-signal-classification\\\\EMG_data_for_gestures-master\\\\EMG_data_for_gestures-master\\\\33\\\\2_raw_data_09-50_12.04.16.txt', 'C:\\\\Users\\\\ENVY\\\\Desktop\\\\MachineLearningProject\\\\emg-signal-classification\\\\EMG_data_for_gestures-master\\\\EMG_data_for_gestures-master\\\\34\\\\1_raw_data_10-51_07.04.16.txt', 'C:\\\\Users\\\\ENVY\\\\Desktop\\\\MachineLearningProject\\\\emg-signal-classification\\\\EMG_data_for_gestures-master\\\\EMG_data_for_gestures-master\\\\34\\\\2_raw_data_10-53_07.04.16.txt', 'C:\\\\Users\\\\ENVY\\\\Desktop\\\\MachineLearningProject\\\\emg-signal-classification\\\\EMG_data_for_gestures-master\\\\EMG_data_for_gestures-master\\\\35\\\\1_raw_data_10-03_13.04.16.txt', 'C:\\\\Users\\\\ENVY\\\\Desktop\\\\MachineLearningProject\\\\emg-signal-classification\\\\EMG_data_for_gestures-master\\\\EMG_data_for_gestures-master\\\\35\\\\2_raw_data_10-05_13.04.16.txt', 'C:\\\\Users\\\\ENVY\\\\Desktop\\\\MachineLearningProject\\\\emg-signal-classification\\\\EMG_data_for_gestures-master\\\\EMG_data_for_gestures-master\\\\36\\\\1_raw_data_13-03_15.04.16.txt', 'C:\\\\Users\\\\ENVY\\\\Desktop\\\\MachineLearningProject\\\\emg-signal-classification\\\\EMG_data_for_gestures-master\\\\EMG_data_for_gestures-master\\\\36\\\\2_raw_data_13-04_15.04.16.txt']\n",
      "72\n"
     ]
    }
   ],
   "source": [
    "import os\n",
    "\n",
    "# Establishing the current work directory (cwd)\n",
    "thisdir = \"C:\\\\Users\\\\ENVY\\\\Desktop\\\\MachineLearningProject\\\\emg-signal-classification\\\\EMG_data_for_gestures-master\\\\EMG_data_for_gestures-master\"\n",
    "Files = []\n",
    "# r=root, d=directories, f = files\n",
    "for r, d, f in os.walk(thisdir):\n",
    "    for file in f:\n",
    "        if \".txt\" in file:\n",
    "            Files.append(os.path.join(r, file))\n",
    "filenames = Files\n",
    "\n",
    "print(Files)\n",
    "print(len(Files))"
   ]
  },
  {
   "cell_type": "markdown",
   "metadata": {
    "colab_type": "text",
    "id": "H5rNHTcf8u3L"
   },
   "source": [
    "## Libraries\n"
   ]
  },
  {
   "cell_type": "code",
   "execution_count": 9,
   "metadata": {
    "colab": {
     "base_uri": "https://localhost:8080/",
     "height": 72
    },
    "colab_type": "code",
    "executionInfo": {
     "elapsed": 8522,
     "status": "ok",
     "timestamp": 1596812433976,
     "user": {
      "displayName": "Alejandro Mora Rubio",
      "photoUrl": "",
      "userId": "07961288293677001436"
     },
     "user_tz": 300
    },
    "id": "AZU7Z8Qa8u3M",
    "outputId": "d3485d76-db2e-4cbb-df04-951c899057f7",
    "scrolled": true
   },
   "outputs": [],
   "source": [
    "import seaborn as sn; sn.set() \n",
    "import pandas as pd\n",
    "import numpy as np\n",
    "import matplotlib as mpl\n",
    "import matplotlib.pyplot as plt\n",
    "import matplotlib.colors as colors\n",
    "\n",
    "from mpl_toolkits.axes_grid1 import make_axes_locatable\n",
    "from pandas import set_option\n",
    "\n",
    "import scipy.signal as signal\n",
    "from pywt import dwt,Wavelet\n",
    "\n",
    "from sklearn.metrics import confusion_matrix\n",
    "from sklearn.metrics import accuracy_score\n",
    "from sklearn.metrics import f1_score\n",
    "from sklearn.metrics import recall_score\n",
    "from sklearn.metrics import precision_score\n",
    "from sklearn.metrics import classification_report\n",
    "\n",
    "from sklearn import preprocessing\n",
    "from sklearn import model_selection\n",
    "from sklearn.linear_model import LogisticRegression\n",
    "from sklearn.linear_model import Ridge\n",
    "from sklearn.linear_model import Lasso\n",
    "from sklearn.neighbors import KNeighborsClassifier\n",
    "from sklearn.discriminant_analysis import LinearDiscriminantAnalysis\n",
    "from sklearn.naive_bayes import GaussianNB\n",
    "from sklearn.svm import SVC\n",
    "from sklearn.neural_network import MLPClassifier\n",
    "from sklearn.ensemble import RandomForestRegressor\n",
    "from sklearn.cluster import KMeans\n",
    "from sklearn.ensemble import RandomForestClassifier\n",
    "from sklearn.tree import DecisionTreeClassifier\n",
    "from sklearn.model_selection import train_test_split\n",
    "from sklearn import decomposition\n",
    "from sklearn import linear_model\n",
    "from sklearn.linear_model import Ridge\n",
    "from sklearn.linear_model import Lasso\n",
    "from sklearn.svm import SVC\n",
    "from sklearn.cluster import AgglomerativeClustering\n",
    "from sklearn.cluster import KMeans\n",
    "\n",
    "from scipy.cluster.hierarchy import dendrogram, linkage\n",
    "from scipy.cluster.hierarchy import cophenet\n",
    "from scipy.spatial.distance import pdist\n",
    "from scipy.spatial.distance import pdist, squareform\n",
    "from scipy.stats import mode\n",
    "import matplotlib.pyplot as plt\n",
    "from pandas import set_option\n",
    "import pandas as pd\n",
    "import numpy as np \n",
    "from sklearn.metrics import confusion_matrix, classification_report\n",
    "import seaborn as sn \n",
    "import keras\n",
    "\n",
    "from sklearn.model_selection import cross_val_score\n",
    "from sklearn.model_selection import KFold\n",
    "from sklearn.preprocessing import LabelEncoder\n",
    "from sklearn.pipeline import Pipeline\n"
   ]
  },
  {
   "cell_type": "markdown",
   "metadata": {
    "colab_type": "text",
    "id": "lVdQal5j8u3R"
   },
   "source": [
    "##  Creating different DataFrames for train, validation and test (raw data)"
   ]
  },
  {
   "cell_type": "code",
   "execution_count": 13,
   "metadata": {
    "colab": {},
    "colab_type": "code",
    "executionInfo": {
     "elapsed": 38203,
     "status": "ok",
     "timestamp": 1596812572337,
     "user": {
      "displayName": "Alejandro Mora Rubio",
      "photoUrl": "",
      "userId": "07961288293677001436"
     },
     "user_tz": 300
    },
    "id": "TxY1bm4m8u3S"
   },
   "outputs": [
    {
     "name": "stdout",
     "output_type": "stream",
     "text": [
      "✅ Saved: subjects_csv\\subject_01.csv (472 samples)\n",
      "✅ Saved: subjects_csv\\subject_02.csv (483 samples)\n",
      "✅ Saved: subjects_csv\\subject_03.csv (413 samples)\n",
      "✅ Saved: subjects_csv\\subject_04.csv (454 samples)\n",
      "✅ Saved: subjects_csv\\subject_05.csv (424 samples)\n",
      "✅ Saved: subjects_csv\\subject_06.csv (409 samples)\n",
      "✅ Saved: subjects_csv\\subject_07.csv (551 samples)\n",
      "✅ Saved: subjects_csv\\subject_08.csv (424 samples)\n",
      "✅ Saved: subjects_csv\\subject_09.csv (435 samples)\n",
      "✅ Saved: subjects_csv\\subject_10.csv (462 samples)\n",
      "✅ Saved: subjects_csv\\subject_11.csv (1648 samples)\n",
      "✅ Saved: subjects_csv\\subject_12.csv (488 samples)\n",
      "✅ Saved: subjects_csv\\subject_13.csv (688 samples)\n",
      "✅ Saved: subjects_csv\\subject_14.csv (416 samples)\n",
      "✅ Saved: subjects_csv\\subject_15.csv (429 samples)\n",
      "✅ Saved: subjects_csv\\subject_16.csv (450 samples)\n",
      "✅ Saved: subjects_csv\\subject_17.csv (468 samples)\n",
      "✅ Saved: subjects_csv\\subject_18.csv (491 samples)\n",
      "✅ Saved: subjects_csv\\subject_19.csv (462 samples)\n",
      "✅ Saved: subjects_csv\\subject_20.csv (484 samples)\n",
      "✅ Saved: subjects_csv\\subject_21.csv (437 samples)\n",
      "✅ Saved: subjects_csv\\subject_22.csv (434 samples)\n",
      "✅ Saved: subjects_csv\\subject_23.csv (481 samples)\n",
      "✅ Saved: subjects_csv\\subject_24.csv (479 samples)\n",
      "✅ Saved: subjects_csv\\subject_25.csv (438 samples)\n",
      "✅ Saved: subjects_csv\\subject_26.csv (429 samples)\n",
      "✅ Saved: subjects_csv\\subject_27.csv (450 samples)\n",
      "✅ Saved: subjects_csv\\subject_28.csv (361 samples)\n",
      "✅ Saved: subjects_csv\\subject_29.csv (447 samples)\n",
      "✅ Saved: subjects_csv\\subject_30.csv (1573 samples)\n",
      "✅ Saved: subjects_csv\\subject_31.csv (390 samples)\n",
      "✅ Saved: subjects_csv\\subject_32.csv (520 samples)\n",
      "✅ Saved: subjects_csv\\subject_33.csv (427 samples)\n",
      "✅ Saved: subjects_csv\\subject_34.csv (509 samples)\n",
      "✅ Saved: subjects_csv\\subject_35.csv (416 samples)\n",
      "✅ Saved: subjects_csv\\subject_36.csv (393 samples)\n",
      "\n",
      "🧮 Overall Sample Count per Gesture:\n",
      "Gesture 0: 2380 samples\n",
      "Gesture 1: 2361 samples\n",
      "Gesture 2: 2292 samples\n",
      "Gesture 3: 2354 samples\n",
      "Gesture 4: 2373 samples\n",
      "Gesture 5: 2375 samples\n",
      "Gesture 6: 2382 samples\n",
      "Gesture 7: 2218 samples\n"
     ]
    }
   ],
   "source": [
    "import os\n",
    "import pandas as pd\n",
    "import numpy as np\n",
    "from scipy import signal\n",
    "from sklearn.preprocessing import StandardScaler\n",
    "from collections import Counter\n",
    "\n",
    "# === CONFIGURATION ===\n",
    "WINDOW_SIZE = 100\n",
    "STEP_SIZE_G7 = 6                # 94% overlap for gesture 7\n",
    "STEP_SIZE_OTHERS = 100           # No overlap for gestures 0–6\n",
    "FS = 1000\n",
    "UNDERSAMPLE_RATIO = 0.12          # Reduce class 0 size\n",
    "\n",
    "# === FEATURE EXTRACTION ===\n",
    "def extract_features(window):\n",
    "    rms = np.sqrt(np.mean(window**2, axis=0))\n",
    "    zcr = np.sum(np.diff(np.sign(window), axis=0) != 0, axis=0)\n",
    "    wl = np.sum(np.abs(np.diff(window, axis=0)), axis=0)\n",
    "    return np.concatenate([rms, zcr, wl])\n",
    "\n",
    "# === PROCESS ONE FILE ===\n",
    "def process_emg_file_selective_overlap(file_path):\n",
    "    df = pd.read_csv(file_path, sep=\"\\t\")\n",
    "\n",
    "    if \"time\" in df.columns:\n",
    "        df = df.drop(columns=[\"time\"])\n",
    "\n",
    "    # Undersample class 0\n",
    "    zeros = df[df['class'] == 0]\n",
    "    nonzeros = df[df['class'] != 0]\n",
    "    if not zeros.empty:\n",
    "        zeros = zeros.sample(frac=UNDERSAMPLE_RATIO, random_state=42)\n",
    "    df = pd.concat([zeros, nonzeros]).sort_index().reset_index(drop=True)\n",
    "\n",
    "    # Bandpass filter (20–40 Hz)\n",
    "    wp = 40 / (FS / 2)\n",
    "    ws = 20 / (FS / 2)\n",
    "    b, a = signal.iirdesign(wp, ws, gpass=1, gstop=60, ftype='butter')\n",
    "    for ch in df.columns[:-1]:\n",
    "        df[ch] = signal.filtfilt(b, a, df[ch])\n",
    "\n",
    "    # Normalize\n",
    "    scaler = StandardScaler()\n",
    "    df.iloc[:, :-1] = scaler.fit_transform(df.iloc[:, :-1])\n",
    "\n",
    "    X, y = [], []\n",
    "\n",
    "    # Process gesture 7 with 50% overlap\n",
    "    df_g7 = df[df['class'] == 7]\n",
    "    for start in range(0, len(df_g7) - WINDOW_SIZE + 1, STEP_SIZE_G7):\n",
    "        window = df_g7.iloc[start:start + WINDOW_SIZE, :-1].values\n",
    "        labels = df_g7.iloc[start:start + WINDOW_SIZE]['class'].values\n",
    "        if len(set(labels)) == 1:\n",
    "            X.append(extract_features(window))\n",
    "            y.append(labels[0])\n",
    "\n",
    "    # Process other gestures (0–6) with NO overlap\n",
    "    df_rest = df[df['class'].isin([0, 1, 2, 3, 4, 5, 6])]\n",
    "    for start in range(0, len(df_rest) - WINDOW_SIZE + 1, STEP_SIZE_OTHERS):\n",
    "        window = df_rest.iloc[start:start + WINDOW_SIZE, :-1].values\n",
    "        labels = df_rest.iloc[start:start + WINDOW_SIZE]['class'].values\n",
    "        if len(set(labels)) == 1 :  # Exclude pure class 0\n",
    "            X.append(extract_features(window))\n",
    "            y.append(labels[0])\n",
    "\n",
    "    return X, y\n",
    "\n",
    "# === SUMMARY PRINTER ===\n",
    "def print_gesture_summary(label_list):\n",
    "    counter = Counter(label_list)\n",
    "    print(\"\\n🧮 Overall Sample Count per Gesture:\")\n",
    "    for gesture in sorted(counter):\n",
    "        print(f\"Gesture {int(gesture)}: {counter[gesture]} samples\")\n",
    "\n",
    "# === PROCESS ALL SUBJECTS ===\n",
    "def process_all_subjects(base_path, output_dir=\"subjects_csv\"):\n",
    "    os.makedirs(output_dir, exist_ok=True)\n",
    "\n",
    "    global_label_list = []\n",
    "\n",
    "    for subject_folder in sorted(os.listdir(base_path)):\n",
    "        subject_path = os.path.join(base_path, subject_folder)\n",
    "        if not os.path.isdir(subject_path):\n",
    "            continue\n",
    "\n",
    "        all_X, all_y = [], []\n",
    "\n",
    "        for file in os.listdir(subject_path):\n",
    "            if file.endswith(\".txt\"):\n",
    "                file_path = os.path.join(subject_path, file)\n",
    "                X, y = process_emg_file_selective_overlap(file_path)\n",
    "                all_X.extend(X)\n",
    "                all_y.extend(y)\n",
    "\n",
    "        global_label_list.extend(all_y)\n",
    "\n",
    "        if all_X:\n",
    "            feature_cols = [f'RMS_{i+1}' for i in range(8)] + \\\n",
    "                           [f'ZCR_{i+1}' for i in range(8)] + \\\n",
    "                           [f'WL_{i+1}' for i in range(8)]\n",
    "\n",
    "            df = pd.DataFrame(all_X, columns=feature_cols)\n",
    "            df['label'] = all_y\n",
    "            output_file = os.path.join(output_dir, f\"subject_{subject_folder}.csv\")\n",
    "            df.to_csv(output_file, index=False)\n",
    "            print(f\"✅ Saved: {output_file} ({len(df)} samples)\")\n",
    "        else:\n",
    "            print(f\"⚠️ No data found for subject {subject_folder}\")\n",
    "\n",
    "    # Print summary\n",
    "    print_gesture_summary(global_label_list)\n",
    "\n",
    "# === RUN ===\n",
    "process_all_subjects(thisdir)\n"
   ]
  },
  {
   "cell_type": "markdown",
   "metadata": {
    "colab_type": "text",
    "id": "j6uUp8t-8u36"
   },
   "source": [
    "## Function to print metrics of a model."
   ]
  },
  {
   "cell_type": "code",
   "execution_count": 3,
   "metadata": {
    "colab": {},
    "colab_type": "code",
    "executionInfo": {
     "elapsed": 445,
     "status": "ok",
     "timestamp": 1596812580342,
     "user": {
      "displayName": "Alejandro Mora Rubio",
      "photoUrl": "",
      "userId": "07961288293677001436"
     },
     "user_tz": 300
    },
    "id": "YAnOtP4S8u37"
   },
   "outputs": [],
   "source": [
    "\n",
    "def metrics(Y_validation, predictions):\n",
    "    print('Accuracy:', accuracy_score(Y_validation, predictions))\n",
    "    print('F1 score:', f1_score(Y_validation, predictions, average='weighted'))\n",
    "    print('Recall:', recall_score(Y_validation, predictions, average='weighted'))\n",
    "    print('Precision:', precision_score(Y_validation, predictions, average='weighted'))\n",
    "    print('\\nClassification Report:\\n', classification_report(Y_validation, predictions))\n",
    "    print('\\nConfusion Matrix:\\n', confusion_matrix(Y_validation, predictions))\n",
    "\n",
    "    # Plotting confusion matrix\n",
    "    labels = sorted(list(set(Y_validation) | set(predictions)))\n",
    "    snn_cm = confusion_matrix(Y_validation, predictions, labels=labels)\n",
    "    snn_df_cm = pd.DataFrame(snn_cm, index=labels, columns=labels)\n",
    "\n",
    "    plt.figure(figsize=(12, 8))\n",
    "    sn.set(font_scale=1.2)\n",
    "    sn.heatmap(snn_df_cm, annot=True, fmt='d', cmap='Blues', annot_kws={\"size\": 14})\n",
    "    plt.title('Confusion Matrix')\n",
    "    plt.xlabel('Predicted Label')\n",
    "    plt.ylabel('True Label')\n",
    "    plt.show()"
   ]
  },
  {
   "cell_type": "markdown",
   "metadata": {
    "colab_type": "text",
    "id": "-w6S7G8n8u3_"
   },
   "source": [
    "## Tuning KNN model, n_neighbors parameter"
   ]
  },
  {
   "cell_type": "code",
   "execution_count": 6,
   "metadata": {
    "colab": {
     "base_uri": "https://localhost:8080/",
     "height": 104
    },
    "colab_type": "code",
    "executionInfo": {
     "elapsed": 3718079,
     "status": "ok",
     "timestamp": 1595433129700,
     "user": {
      "displayName": "Alejandro Mora Rubio",
      "photoUrl": "",
      "userId": "07961288293677001436"
     },
     "user_tz": 300
    },
    "id": "YNXp-ojn8u4A",
    "outputId": "f99d66c1-891f-4400-e297-bc9094e48fb8"
   },
   "outputs": [
    {
     "name": "stdout",
     "output_type": "stream",
     "text": [
      "this model is just created as the starting point for our model, it is not used for any predictions, just made it \n",
      "to further understand the data, the cababilities of the model and how to adjust the parameters for the model due to its simplicity. \n",
      "🔁 Starting Leave-One-Subject-Out Cross-Validation...\n",
      "[01/36] Subject subject_01.csv - Accuracy: 0.7100\n",
      "[02/36] Subject subject_02.csv - Accuracy: 0.7513\n",
      "[03/36] Subject subject_03.csv - Accuracy: 0.8184\n",
      "[04/36] Subject subject_04.csv - Accuracy: 0.8154\n",
      "[05/36] Subject subject_05.csv - Accuracy: 0.8989\n",
      "[06/36] Subject subject_06.csv - Accuracy: 0.7424\n",
      "[07/36] Subject subject_07.csv - Accuracy: 0.4646\n",
      "[08/36] Subject subject_08.csv - Accuracy: 0.8507\n",
      "[09/36] Subject subject_09.csv - Accuracy: 0.9222\n",
      "[10/36] Subject subject_10.csv - Accuracy: 0.8338\n",
      "[11/36] Subject subject_11.csv - Accuracy: 0.2425\n",
      "[12/36] Subject subject_12.csv - Accuracy: 0.7476\n",
      "[13/36] Subject subject_13.csv - Accuracy: 0.8515\n",
      "[14/36] Subject subject_14.csv - Accuracy: 0.7275\n",
      "[15/36] Subject subject_15.csv - Accuracy: 0.7162\n",
      "[16/36] Subject subject_16.csv - Accuracy: 0.8308\n",
      "[17/36] Subject subject_17.csv - Accuracy: 0.7833\n",
      "[18/36] Subject subject_18.csv - Accuracy: 0.8838\n",
      "[19/36] Subject subject_19.csv - Accuracy: 0.7901\n",
      "[20/36] Subject subject_20.csv - Accuracy: 0.8845\n",
      "[21/36] Subject subject_21.csv - Accuracy: 0.7610\n",
      "[22/36] Subject subject_22.csv - Accuracy: 0.4505\n",
      "[23/36] Subject subject_23.csv - Accuracy: 0.8595\n",
      "[24/36] Subject subject_24.csv - Accuracy: 0.8568\n",
      "[25/36] Subject subject_25.csv - Accuracy: 0.7724\n",
      "[26/36] Subject subject_26.csv - Accuracy: 0.7547\n",
      "[27/36] Subject subject_27.csv - Accuracy: 0.8379\n",
      "[28/36] Subject subject_28.csv - Accuracy: 0.7645\n",
      "[29/36] Subject subject_29.csv - Accuracy: 0.6523\n",
      "[30/36] Subject subject_30.csv - Accuracy: 0.1650\n",
      "[31/36] Subject subject_31.csv - Accuracy: 0.6859\n",
      "[32/36] Subject subject_32.csv - Accuracy: 0.9515\n",
      "[33/36] Subject subject_33.csv - Accuracy: 0.8767\n",
      "[34/36] Subject subject_34.csv - Accuracy: 0.9051\n",
      "[35/36] Subject subject_35.csv - Accuracy: 0.8808\n",
      "[36/36] Subject subject_36.csv - Accuracy: 0.8743\n",
      "\n",
      "📊 Leave-One-Subject-Out Summary:\n",
      "           Subject  Accuracy\n",
      "0   subject_01.csv  0.710000\n",
      "1   subject_02.csv  0.751269\n",
      "2   subject_03.csv  0.818436\n",
      "3   subject_04.csv  0.815385\n",
      "4   subject_05.csv  0.898907\n",
      "5   subject_06.csv  0.742382\n",
      "6   subject_07.csv  0.464583\n",
      "7   subject_08.csv  0.850704\n",
      "8   subject_09.csv  0.922190\n",
      "9   subject_10.csv  0.833760\n",
      "10  subject_11.csv  0.242463\n",
      "11  subject_12.csv  0.747573\n",
      "12  subject_13.csv  0.851485\n",
      "13  subject_14.csv  0.727520\n",
      "14  subject_15.csv  0.716180\n",
      "15  subject_16.csv  0.830846\n",
      "16  subject_17.csv  0.783290\n",
      "17  subject_18.csv  0.883777\n",
      "18  subject_19.csv  0.790123\n",
      "19  subject_20.csv  0.884521\n",
      "20  subject_21.csv  0.760989\n",
      "21  subject_22.csv  0.450549\n",
      "22  subject_23.csv  0.859524\n",
      "23  subject_24.csv  0.856796\n",
      "24  subject_25.csv  0.772358\n",
      "25  subject_26.csv  0.754717\n",
      "26  subject_27.csv  0.837905\n",
      "27  subject_28.csv  0.764516\n",
      "28  subject_29.csv  0.652284\n",
      "29  subject_30.csv  0.164976\n",
      "30  subject_31.csv  0.685879\n",
      "31  subject_32.csv  0.951542\n",
      "32  subject_33.csv  0.876712\n",
      "33  subject_34.csv  0.905093\n",
      "34  subject_35.csv  0.880759\n",
      "35  subject_36.csv  0.874269\n",
      "\n",
      "✅ Average Accuracy Across All Subjects (k=6): 0.7587\n",
      "📁 Results saved to knn-results.csv\n"
     ]
    }
   ],
   "source": [
    "import os\n",
    "import pandas as pd\n",
    "import numpy as np\n",
    "from sklearn.neighbors import KNeighborsClassifier\n",
    "from sklearn.preprocessing import StandardScaler\n",
    "from sklearn.metrics import accuracy_score, precision_score, recall_score, f1_score\n",
    "\n",
    "# === CONFIGURATION ===\n",
    "DATA_DIR = \"./subjects_csv\"  # Make sure this path is correct\n",
    "K = 6\n",
    "OUTPUT_FILE = \"knn-results.csv\"\n",
    "\n",
    "# === Load all subject files ===\n",
    "subject_files = sorted([f for f in os.listdir(DATA_DIR) if f.endswith(\".csv\")])\n",
    "\n",
    "results = []\n",
    "print(\"this model is just created as the starting point for our model, it is not used for any predictions, just made it \\nto further understand the data, the cababilities of the model and how to adjust the parameters for the model due to its simplicity. \")\n",
    "print(\"🔁 Starting Leave-One-Subject-Out Cross-Validation...\")\n",
    "\n",
    "for i, test_file in enumerate(subject_files):\n",
    "    test_path = os.path.join(DATA_DIR, test_file)\n",
    "\n",
    "    # Load test subject\n",
    "    test_df = pd.read_csv(test_path)\n",
    "\n",
    "    # Load training subjects (all except current)\n",
    "    train_files = subject_files[:i] + subject_files[i+1:]\n",
    "    train_df = pd.concat([pd.read_csv(os.path.join(DATA_DIR, f)) for f in train_files], ignore_index=True)\n",
    "\n",
    "    # Split features and labels\n",
    "    X_train = train_df.drop(columns=['label'])\n",
    "    y_train = train_df['label']\n",
    "    X_test = test_df.drop(columns=['label'])\n",
    "    y_test = test_df['label']\n",
    "\n",
    "    # Scale features\n",
    "    scaler = StandardScaler()\n",
    "    X_train_scaled = scaler.fit_transform(X_train)\n",
    "    X_test_scaled = scaler.transform(X_test)\n",
    "\n",
    "    # Train and evaluate KNN\n",
    "    knn = KNeighborsClassifier(n_neighbors=K)\n",
    "    knn.fit(X_train_scaled, y_train)\n",
    "    y_pred = knn.predict(X_test_scaled)\n",
    "\n",
    "    # Calculate metrics\n",
    "    acc = accuracy_score(y_test, y_pred)\n",
    "    prec = precision_score(y_test, y_pred, average='weighted', zero_division=0)\n",
    "    rec = recall_score(y_test, y_pred, average='weighted', zero_division=0)\n",
    "    f1 = f1_score(y_test, y_pred, average='weighted', zero_division=0)\n",
    "\n",
    "    results.append({\n",
    "        'Subject': test_file,\n",
    "        'Accuracy': acc,\n",
    "        'Precision': prec,\n",
    "        'Recall': rec,\n",
    "        'F1 Score': f1\n",
    "    })\n",
    "\n",
    "    print(f\"[{i+1:02d}/36] Subject {test_file} - Accuracy: {acc:.4f}\")\n",
    "\n",
    "# === Convert results to DataFrame and save ===\n",
    "results_df = pd.DataFrame(results)\n",
    "results_df.to_csv(OUTPUT_FILE, index=False)\n",
    "\n",
    "# === Summary Output ===\n",
    "print(\"\\n📊 Leave-One-Subject-Out Summary:\")\n",
    "print(results_df[['Subject', 'Accuracy']])\n",
    "print(f\"\\n✅ Average Accuracy Across All Subjects (k={K}): {results_df['Accuracy'].mean():.4f}\")\n",
    "print(f\"📁 Results saved to {OUTPUT_FILE}\")"
   ]
  },
  {
   "cell_type": "markdown",
   "metadata": {
    "colab_type": "text",
    "id": "Kyg1Gw3r8u5I"
   },
   "source": [
    "## Gaussian Naive Bayes model"
   ]
  },
  {
   "cell_type": "code",
   "execution_count": 32,
   "metadata": {
    "colab": {
     "base_uri": "https://localhost:8080/",
     "height": 1000
    },
    "colab_type": "code",
    "executionInfo": {
     "elapsed": 9488,
     "status": "ok",
     "timestamp": 1593202415154,
     "user": {
      "displayName": "Alejandro Mora Rubio",
      "photoUrl": "",
      "userId": "07961288293677001436"
     },
     "user_tz": 300
    },
    "id": "B7RcaCH28u5J",
    "outputId": "2f30b7ff-0ef4-4038-d7b7-83585142761a"
   },
   "outputs": [
    {
     "name": "stdout",
     "output_type": "stream",
     "text": [
      "🔁 Starting Leave-One-Subject-Out Evaluation with Gaussian Naive Bayes...\n",
      "\n",
      "📊 Leave-One-Subject-Out Summary:\n",
      "           Subject  Accuracy\n",
      "0   subject_01.csv  0.692500\n",
      "1   subject_02.csv  0.723350\n",
      "2   subject_03.csv  0.854749\n",
      "3   subject_04.csv  0.779487\n",
      "4   subject_05.csv  0.879781\n",
      "5   subject_06.csv  0.789474\n",
      "6   subject_07.csv  0.352083\n",
      "7   subject_08.csv  0.802817\n",
      "8   subject_09.csv  0.945245\n",
      "9   subject_10.csv  0.797954\n",
      "10  subject_11.csv  0.239897\n",
      "11  subject_12.csv  0.810680\n",
      "12  subject_13.csv  0.745875\n",
      "13  subject_14.csv  0.722071\n",
      "14  subject_15.csv  0.816976\n",
      "15  subject_16.csv  0.853234\n",
      "16  subject_17.csv  0.725849\n",
      "17  subject_18.csv  0.820823\n",
      "18  subject_19.csv  0.743210\n",
      "19  subject_20.csv  0.889435\n",
      "20  subject_21.csv  0.741758\n",
      "21  subject_22.csv  0.505495\n",
      "22  subject_23.csv  0.876190\n",
      "23  subject_24.csv  0.793689\n",
      "24  subject_25.csv  0.785908\n",
      "25  subject_26.csv  0.684636\n",
      "26  subject_27.csv  0.842893\n",
      "27  subject_28.csv  0.761290\n",
      "28  subject_29.csv  0.662437\n",
      "29  subject_30.csv  0.136579\n",
      "30  subject_31.csv  0.700288\n",
      "31  subject_32.csv  0.929515\n",
      "32  subject_33.csv  0.852055\n",
      "33  subject_34.csv  0.884259\n",
      "34  subject_35.csv  0.897019\n",
      "35  subject_36.csv  0.903509\n",
      "\n",
      "✅ Average Accuracy Across All Subjects (GNB): 0.7484\n",
      "📁 Results saved to gnb-results.csv\n",
      "\n",
      "🏅 Best Performance:\n",
      "Subject: subject_09.csv\n",
      "Accuracy: 0.9452\n",
      "Precision: 0.9598\n",
      "Recall: 0.9452\n",
      "F1 Score: 0.9514\n"
     ]
    }
   ],
   "source": [
    "import os\n",
    "import pandas as pd\n",
    "import numpy as np\n",
    "from sklearn.naive_bayes import GaussianNB\n",
    "from sklearn.preprocessing import StandardScaler\n",
    "from sklearn.metrics import accuracy_score, precision_score, recall_score, f1_score\n",
    "\n",
    "# === CONFIGURATION ===\n",
    "DATA_DIR = \"./subjects_csv\"\n",
    "OUTPUT_FILE = \"gnb-results.csv\"\n",
    "\n",
    "# === Load subject files ===\n",
    "subject_files = sorted([f for f in os.listdir(DATA_DIR) if f.endswith(\".csv\")])\n",
    "\n",
    "results = []\n",
    "\n",
    "print(\"🔁 Starting Leave-One-Subject-Out Evaluation with Gaussian Naive Bayes...\")\n",
    "\n",
    "for i, test_file in enumerate(subject_files):\n",
    "    test_path = os.path.join(DATA_DIR, test_file)\n",
    "    test_df = pd.read_csv(test_path)\n",
    "\n",
    "    # Load training data (all other subjects)\n",
    "    train_files = subject_files[:i] + subject_files[i+1:]\n",
    "    train_df = pd.concat([pd.read_csv(os.path.join(DATA_DIR, f)) for f in train_files], ignore_index=True)\n",
    "\n",
    "    # Split features and labels\n",
    "    X_train = train_df.drop(columns=['label'])\n",
    "    y_train = train_df['label']\n",
    "    X_test = test_df.drop(columns=['label'])\n",
    "    y_test = test_df['label']\n",
    "\n",
    "    # Scale features\n",
    "    scaler = StandardScaler()\n",
    "    X_train_scaled = scaler.fit_transform(X_train)\n",
    "    X_test_scaled = scaler.transform(X_test)\n",
    "\n",
    "    # Train Gaussian Naive Bayes\n",
    "    gnb = GaussianNB()\n",
    "    gnb.fit(X_train_scaled, y_train)\n",
    "    y_pred = gnb.predict(X_test_scaled)\n",
    "\n",
    "    # Calculate metrics\n",
    "    acc = accuracy_score(y_test, y_pred)\n",
    "    prec = precision_score(y_test, y_pred, average='weighted', zero_division=0)\n",
    "    rec = recall_score(y_test, y_pred, average='weighted', zero_division=0)\n",
    "    f1 = f1_score(y_test, y_pred, average='weighted', zero_division=0)\n",
    "\n",
    "    results.append({\n",
    "        'Subject': test_file,\n",
    "        'Accuracy': acc,\n",
    "        'Precision': prec,\n",
    "        'Recall': rec,\n",
    "        'F1 Score': f1\n",
    "    })\n",
    "\n",
    "# === Convert results to DataFrame and save ===\n",
    "results_df = pd.DataFrame(results)\n",
    "results_df.to_csv(OUTPUT_FILE, index=False)\n",
    "\n",
    "# === Summary Output ===\n",
    "print(\"\\n📊 Leave-One-Subject-Out Summary:\")\n",
    "print(results_df[['Subject', 'Accuracy']])\n",
    "print(f\"\\n✅ Average Accuracy Across All Subjects (GNB): {results_df['Accuracy'].mean():.4f}\")\n",
    "print(f\"📁 Results saved to {OUTPUT_FILE}\")\n",
    "\n",
    "# === Identify Best Iteration ===\n",
    "best_row = results_df.loc[results_df['F1 Score'].idxmax()]\n",
    "print(f\"\\n🏅 Best Performance:\")\n",
    "print(f\"Subject: {best_row['Subject']}\")\n",
    "print(f\"Accuracy: {best_row['Accuracy']:.4f}\")\n",
    "print(f\"Precision: {best_row['Precision']:.4f}\")\n",
    "print(f\"Recall: {best_row['Recall']:.4f}\")\n",
    "print(f\"F1 Score: {best_row['F1 Score']:.4f}\")\n"
   ]
  },
  {
   "cell_type": "markdown",
   "metadata": {
    "colab_type": "text",
    "id": "-9QnNR4X8u5b"
   },
   "source": [
    "## Tuning Random forest model, n_estimators parameter"
   ]
  },
  {
   "cell_type": "code",
   "execution_count": 15,
   "metadata": {
    "colab": {},
    "colab_type": "code",
    "id": "WDfK0i4d8u5c"
   },
   "outputs": [
    {
     "name": "stdout",
     "output_type": "stream",
     "text": [
      "⚡ Running LOSO for Random Forest (50 trees)...\n",
      "📁 Results saved to: rf_50_trees.csv\n",
      "\n",
      "⚡ Running LOSO for Random Forest (100 trees)...\n",
      "📁 Results saved to: rf_100_trees.csv\n",
      "\n",
      "⚡ Running LOSO for Random Forest (150 trees)...\n",
      "📁 Results saved to: rf_150_trees.csv\n",
      "\n",
      "⚡ Running LOSO for Random Forest (200 trees)...\n",
      "📁 Results saved to: rf_200_trees.csv\n",
      "\n",
      "✅ Fast evaluation complete.\n"
     ]
    }
   ],
   "source": [
    "import os\n",
    "import pandas as pd\n",
    "from sklearn.ensemble import RandomForestClassifier\n",
    "from sklearn.preprocessing import StandardScaler\n",
    "from sklearn.metrics import accuracy_score, precision_score, recall_score, f1_score\n",
    "from joblib import Parallel, delayed\n",
    "import numpy as np\n",
    "\n",
    "# === CONFIGURATION ===\n",
    "DATA_DIR = \"./subjects_csv\"\n",
    "N_ESTIMATORS_LIST = [50, 100, 150, 200]  # Fewer tree counts for speed\n",
    "N_JOBS = -1                    # Use all CPU cores\n",
    "RESULTS_DIR = \"./rf_fast_results\"\n",
    "os.makedirs(RESULTS_DIR, exist_ok=True)\n",
    "\n",
    "# === Load and cache all subject data ===\n",
    "subject_files = sorted([f for f in os.listdir(DATA_DIR) if f.endswith(\".csv\")])\n",
    "subjects = [(f, pd.read_csv(os.path.join(DATA_DIR, f))) for f in subject_files]\n",
    "\n",
    "# === Evaluation function ===\n",
    "def evaluate_subject_rf(n_estimators, test_index):\n",
    "    test_file, test_df = subjects[test_index]\n",
    "    train_df = pd.concat([df for i, (_, df) in enumerate(subjects) if i != test_index], ignore_index=True)\n",
    "\n",
    "    # Split\n",
    "    X_train = train_df.drop(columns=['label'])\n",
    "    y_train = train_df['label']\n",
    "    X_test = test_df.drop(columns=['label'])\n",
    "    y_test = test_df['label']\n",
    "\n",
    "    # Scale\n",
    "    scaler = StandardScaler()\n",
    "    X_train_scaled = scaler.fit_transform(X_train)\n",
    "    X_test_scaled = scaler.transform(X_test)\n",
    "\n",
    "    # Train and predict\n",
    "    model = RandomForestClassifier(n_estimators=n_estimators, random_state=42)\n",
    "    model.fit(X_train_scaled, y_train)\n",
    "    y_pred = model.predict(X_test_scaled)\n",
    "\n",
    "    # Metrics\n",
    "    acc = accuracy_score(y_test, y_pred)\n",
    "    prec = precision_score(y_test, y_pred, average='weighted', zero_division=0)\n",
    "    rec = recall_score(y_test, y_pred, average='weighted', zero_division=0)\n",
    "    f1 = f1_score(y_test, y_pred, average='weighted', zero_division=0)\n",
    "\n",
    "    return {\n",
    "        'Subject': test_file,\n",
    "        'n_estimators': n_estimators,\n",
    "        'Accuracy': acc,\n",
    "        'Precision': prec,\n",
    "        'Recall': rec,\n",
    "        'F1 Score': f1\n",
    "    }\n",
    "\n",
    "# === Main loop for tree counts ===\n",
    "for n_estimators in N_ESTIMATORS_LIST:\n",
    "    print(f\"⚡ Running LOSO for Random Forest ({n_estimators} trees)...\")\n",
    "    results = Parallel(n_jobs=N_JOBS)(\n",
    "        delayed(evaluate_subject_rf)(n_estimators, i) for i in range(len(subjects))\n",
    "    )\n",
    "\n",
    "    # Save results\n",
    "    df = pd.DataFrame(results)\n",
    "    df.to_csv(f\"{RESULTS_DIR}/rf_{n_estimators}_trees.csv\", index=False)\n",
    "    print(f\"📁 Results saved to: rf_{n_estimators}_trees.csv\\n\")\n",
    "\n",
    "# ✅ Done\n",
    "print(\"✅ Fast evaluation complete.\")\n"
   ]
  },
  {
   "cell_type": "markdown",
   "metadata": {
    "colab_type": "text",
    "id": "p5K7oaw-8u5t"
   },
   "source": [
    "## Plotting n_estimators vs accuracy"
   ]
  },
  {
   "cell_type": "code",
   "execution_count": 16,
   "metadata": {
    "colab": {},
    "colab_type": "code",
    "id": "pVNpQ1dT8u5u"
   },
   "outputs": [
    {
     "data": {
      "image/png": "[encoded data removed]",
      "text/plain": [
       "<Figure size 1000x600 with 1 Axes>"
      ]
     },
     "metadata": {},
     "output_type": "display_data"
    }
   ],
   "source": [
    "import os\n",
    "import pandas as pd\n",
    "import matplotlib.pyplot as plt\n",
    "\n",
    "# === CONFIGURATION ===\n",
    "RESULTS_DIR = \"./rf_fast_results\"\n",
    "files = [f for f in os.listdir(RESULTS_DIR) if f.endswith(\".csv\")]\n",
    "\n",
    "# === Extract (n_estimators, avg_accuracy) pairs ===\n",
    "data = []\n",
    "for file in files:\n",
    "    df = pd.read_csv(os.path.join(RESULTS_DIR, file))\n",
    "    n_estimators = int(df['n_estimators'].iloc[0])\n",
    "    avg_accuracy = df['Accuracy'].mean()\n",
    "    data.append((n_estimators, avg_accuracy))\n",
    "\n",
    "# === Sort by n_estimators numerically ===\n",
    "data.sort(key=lambda x: x[0])  # Sort by number of trees\n",
    "\n",
    "# === Split into separate lists for plotting ===\n",
    "n_estimators_list, avg_accuracies = zip(*data)\n",
    "\n",
    "# === Plot ===\n",
    "plt.figure(figsize=(10, 6))\n",
    "plt.plot(n_estimators_list, avg_accuracies, marker='o', linestyle='-')\n",
    "plt.title('Random Forest: n_estimators vs Average Accuracy')\n",
    "plt.xlabel('Number of Trees (n_estimators)')\n",
    "plt.ylabel('Average Accuracy')\n",
    "plt.grid(True)\n",
    "plt.xticks(n_estimators_list)\n",
    "plt.tight_layout()\n",
    "plt.savefig(\"rf_n_estimators_vs_accuracy.png\", dpi=300)\n",
    "plt.show()\n"
   ]
  },
  {
   "cell_type": "markdown",
   "metadata": {
    "colab_type": "text",
    "id": "dhKsEzp68u59"
   },
   "source": [
    "## Creating a random forest model with 100 estimators and saving it"
   ]
  },
  {
   "cell_type": "code",
   "execution_count": 14,
   "metadata": {
    "colab": {},
    "colab_type": "code",
    "id": "dAcHtEs3RZjj"
   },
   "outputs": [
    {
     "name": "stdout",
     "output_type": "stream",
     "text": [
      "✅ Model and scaler saved to: ./saved_rf_model.joblib\n"
     ]
    }
   ],
   "source": [
    "import os\n",
    "import pandas as pd\n",
    "import numpy as np\n",
    "from sklearn.ensemble import RandomForestClassifier\n",
    "from sklearn.preprocessing import StandardScaler\n",
    "from joblib import dump\n",
    "\n",
    "# === CONFIGURATION ===\n",
    "DATA_DIR = \"./subjects_csv\"\n",
    "MODEL_SAVE_PATH = \"./saved_rf_model.joblib\"\n",
    "os.makedirs(os.path.dirname(MODEL_SAVE_PATH), exist_ok=True)\n",
    "\n",
    "# === Load and combine all data ===\n",
    "subject_files = sorted([f for f in os.listdir(DATA_DIR) if f.endswith(\".csv\")])\n",
    "all_data = pd.concat([pd.read_csv(os.path.join(DATA_DIR, f)) for f in subject_files], ignore_index=True)\n",
    "\n",
    "# === Split features and labels ===\n",
    "X = all_data.drop(columns=['label'])\n",
    "y = all_data['label']\n",
    "\n",
    "# === Scale the features ===\n",
    "scaler = StandardScaler()\n",
    "X_scaled = scaler.fit_transform(X)\n",
    "\n",
    "# === Train the Random Forest ===\n",
    "model = RandomForestClassifier(n_estimators=100, random_state=42)\n",
    "model.fit(X_scaled, y)\n",
    "\n",
    "# === Save the trained model ===\n",
    "dump((scaler, model), MODEL_SAVE_PATH)\n",
    "\n",
    "print(f\"✅ Model and scaler saved to: {MODEL_SAVE_PATH}\")\n"
   ]
  },
  {
   "cell_type": "code",
   "execution_count": null,
   "metadata": {
    "colab": {
     "base_uri": "https://localhost:8080/",
     "height": 1000
    },
    "colab_type": "code",
    "executionInfo": {
     "elapsed": 550304,
     "status": "ok",
     "timestamp": 1595434479378,
     "user": {
      "displayName": "Alejandro Mora Rubio",
      "photoUrl": "",
      "userId": "07961288293677001436"
     },
     "user_tz": 300
    },
    "id": "XMPnQJPz8u5-",
    "outputId": "f06664b0-0c0b-4f1d-9019-c7af90a7cb40"
   },
   "outputs": [],
   "source": [
    "RF = RandomForestClassifier(n_estimators=x[yValidationScaler.index(max(yValidationScaler))])\n",
    "RF.fit(Features_train_valid, Labels_train_valid)\n",
    "predictions = RF.predict(Features_test_scaler)\n",
    "metrics(Labels_test,predictions)"
   ]
  },
  {
   "cell_type": "markdown",
   "metadata": {
    "colab_type": "text",
    "id": "V2omIiWc8u6Y"
   },
   "source": [
    "## Decision Tree model"
   ]
  },
  {
   "cell_type": "code",
   "execution_count": null,
   "metadata": {
    "colab": {
     "base_uri": "https://localhost:8080/",
     "height": 1000
    },
    "colab_type": "code",
    "executionInfo": {
     "elapsed": 41210,
     "status": "ok",
     "timestamp": 1593220087641,
     "user": {
      "displayName": "Alejandro Mora Rubio",
      "photoUrl": "",
      "userId": "07961288293677001436"
     },
     "user_tz": 300
    },
    "id": "emN6lMHz8u6Z",
    "outputId": "c024c9c2-57e2-4afa-f3e7-625e2ccdea88"
   },
   "outputs": [],
   "source": [
    "DT = DecisionTreeClassifier()\n",
    "DT.fit(Features_train_scaler, Labels_train)\n",
    "predictions = DT.predict(Features_test_scaler)\n",
    "metrics(Labels_test,predictions)"
   ]
  },
  {
   "cell_type": "markdown",
   "metadata": {
    "colab_type": "text",
    "id": "eUuBf8we8u6e"
   },
   "source": [
    "## Cross validation of all models "
   ]
  },
  {
   "cell_type": "code",
   "execution_count": null,
   "metadata": {
    "colab": {},
    "colab_type": "code",
    "id": "go5DWQWe_-VR"
   },
   "outputs": [],
   "source": [
    "def fold_creation(filenames, index):\n",
    "    filenames_fold=[]\n",
    "    filenames_fold.append(filenames[index[0]])\n",
    "    filenames_fold.append(filenames[index[0]+1])\n",
    "    filenames_fold.append(filenames[index[1]])\n",
    "    filenames_fold.append(filenames[index[1]+1])\n",
    "    filenames_fold.append(filenames[index[2]])\n",
    "    filenames_fold.append(filenames[index[2]+1])\n",
    "    filenames_fold.append(filenames[index[3]])\n",
    "    filenames_fold.append(filenames[index[3]+1])\n",
    "\n",
    "    [df1,df2,df3,df4,df5,df6]=Data_separation(filenames_fold[0])\n",
    "    Gesto1=df1\n",
    "    Gesto2=df2\n",
    "    Gesto3=df3\n",
    "    Gesto4=df4\n",
    "    Gesto5=df5\n",
    "    Gesto6=df6\n",
    "\n",
    "    for i in range(len(filenames_fold[1:])):\n",
    "        [df1,df2,df3,df4,df5,df6]=Data_separation(filenames[i])\n",
    "        Gesto1=Gesto1.append(df1)\n",
    "        Gesto2=Gesto2.append(df2)\n",
    "        Gesto3=Gesto3.append(df3)\n",
    "        Gesto4=Gesto4.append(df4)\n",
    "        Gesto5=Gesto5.append(df5)\n",
    "        Gesto6=Gesto6.append(df6)\n",
    "\n",
    "    fold=Gesto1\n",
    "    fold=fold.append(Gesto2)\n",
    "    fold=fold.append(Gesto3)\n",
    "    fold=fold.append(Gesto4)\n",
    "    fold=fold.append(Gesto5)\n",
    "    fold=fold.append(Gesto6)\n",
    "    return fold"
   ]
  },
  {
   "cell_type": "code",
   "execution_count": null,
   "metadata": {
    "colab": {},
    "colab_type": "code",
    "id": "HnqaLmsSFkU7"
   },
   "outputs": [],
   "source": [
    "pacientes = []\n",
    "for i in range(0, 72, 2):\n",
    "    pacientes.append(i)\n",
    "index=np.random.choice(pacientes, (9, 4), replace=False)"
   ]
  },
  {
   "cell_type": "code",
   "execution_count": null,
   "metadata": {
    "colab": {},
    "colab_type": "code",
    "id": "4acLf0BAFk07"
   },
   "outputs": [],
   "source": [
    "fold0=fold_creation(filenames, index[0])\n",
    "fold1=fold_creation(filenames, index[1])\n",
    "fold2=fold_creation(filenames, index[2])\n",
    "fold3=fold_creation(filenames, index[3])\n",
    "fold4=fold_creation(filenames, index[4])\n",
    "fold5=fold_creation(filenames, index[5])\n",
    "fold6=fold_creation(filenames, index[6])\n",
    "fold7=fold_creation(filenames, index[7])\n",
    "fold8=fold_creation(filenames, index[8])"
   ]
  },
  {
   "cell_type": "code",
   "execution_count": null,
   "metadata": {
    "colab": {},
    "colab_type": "code",
    "id": "bHx9WfEJIzPN"
   },
   "outputs": [],
   "source": [
    "Labels_0 = fold0['class']\n",
    "Features_0 = fold0[fold0.columns[0:8]]\n",
    "\n",
    "Labels_1 = fold1['class']\n",
    "Features_1 = fold1[fold1.columns[0:8]]\n",
    "\n",
    "Labels_2 = fold2['class']\n",
    "Features_2 = fold2[fold2.columns[0:8]]\n",
    "\n",
    "Labels_3 = fold3['class']\n",
    "Features_3 = fold3[fold3.columns[0:8]]\n",
    "\n",
    "Labels_4 = fold4['class']\n",
    "Features_4 = fold4[fold4.columns[0:8]]\n",
    "\n",
    "Labels_5 = fold5['class']\n",
    "Features_5 = fold5[fold5.columns[0:8]]\n",
    "\n",
    "Labels_6 = fold6['class']\n",
    "Features_6 = fold6[fold6.columns[0:8]]\n",
    "\n",
    "Labels_7 = fold7['class']\n",
    "Features_7 = fold7[fold7.columns[0:8]]\n",
    "\n",
    "Labels_8 = fold8['class']\n",
    "Features_8 = fold8[fold8.columns[0:8]]"
   ]
  },
  {
   "cell_type": "code",
   "execution_count": null,
   "metadata": {
    "colab": {},
    "colab_type": "code",
    "id": "nT4nblYmIzPZ"
   },
   "outputs": [],
   "source": [
    "Features_full = Features_0.append(Features_1)\n",
    "Features_full = Features_full.append(Features_2)\n",
    "Features_full = Features_full.append(Features_3)\n",
    "Features_full = Features_full.append(Features_4)\n",
    "Features_full = Features_full.append(Features_5)\n",
    "Features_full = Features_full.append(Features_6)\n",
    "Features_full = Features_full.append(Features_7)\n",
    "Features_full = Features_full.append(Features_8)\n",
    "\n",
    "scaler = preprocessing.StandardScaler().fit(Features_full)\n",
    "Features_fold0 = scaler.transform(Features_0)\n",
    "Features_fold1 = scaler.transform(Features_1)\n",
    "Features_fold2 = scaler.transform(Features_2)\n",
    "Features_fold3 = scaler.transform(Features_3)\n",
    "Features_fold4 = scaler.transform(Features_4)\n",
    "Features_fold5 = scaler.transform(Features_5)\n",
    "Features_fold6 = scaler.transform(Features_6)\n",
    "Features_fold7 = scaler.transform(Features_7)\n",
    "Features_fold8 = scaler.transform(Features_8)"
   ]
  },
  {
   "cell_type": "code",
   "execution_count": null,
   "metadata": {
    "colab": {},
    "colab_type": "code",
    "id": "cUXzD8SaIzPe"
   },
   "outputs": [],
   "source": [
    "folds = [Features_fold0, Features_fold1, Features_fold2, Features_fold3, Features_fold4, Features_fold5, Features_fold6, Features_fold7, Features_fold8]\n",
    "labels = [Labels_0, Labels_1, Labels_2, Labels_3, Labels_4, Labels_5, Labels_6, Labels_7, Labels_8]"
   ]
  },
  {
   "cell_type": "code",
   "execution_count": null,
   "metadata": {
    "colab": {},
    "colab_type": "code",
    "id": "BC-oWkOEIzPh"
   },
   "outputs": [],
   "source": [
    "def manual_cross_val(model, folds, labels):\n",
    "    Results = []\n",
    "    index_t = [[0, 1, 2, 3, 4, 5, 6, 7], [8, 0, 1, 2, 3, 4, 5, 6], [7, 8, 0, 1, 2, 3, 4, 5], [6, 7, 8, 0, 1, 2, 3, 4], [5, 6, 7, 8, 0, 1, 2, 3]\n",
    "            , [4, 5, 6, 7, 8, 0, 1, 2], [3, 4, 5, 6, 7, 8, 0, 1], [2, 3, 4, 5, 6, 7, 8, 0], [1, 2, 3, 4, 5, 6, 7, 8]]\n",
    "    index_v = [8, 7, 6, 5, 4, 3 , 2, 1, 0]\n",
    "    for i in range(len(index_t)):\n",
    "      Train = folds[index_t[i][0]]\n",
    "      Trainlabels = labels[index_t[i][0]]\n",
    "      for j in range(len(index_t[i][1:])):\n",
    "          Train = np.append(Train, folds[index_t[i][j]], axis=0)\n",
    "          Trainlabels = np.append(Trainlabels, labels[index_t[i][j]], axis=0)\n",
    "      Valid = folds[index_v[i]]\n",
    "      Validlabels = labels[index_v[i]]\n",
    "      model.fit(Train, Trainlabels)\n",
    "      pred = model.predict(Valid)\n",
    "      Results.append(accuracy_score(Validlabels, pred))\n",
    "    return [np.mean(Results), np.std(Results)]\n",
    "\n",
    "KNN = KNeighborsClassifier(n_neighbors=1)\n",
    "lr = LogisticRegression(C=0.3)\n",
    "NB = GaussianNB()\n",
    "MLP = MLPClassifier(solver='adam', alpha=.5, hidden_layer_sizes=800)\n",
    "RF = RandomForestClassifier(n_estimators=71)\n",
    "DT = DecisionTreeClassifier()"
   ]
  },
  {
   "cell_type": "code",
   "execution_count": null,
   "metadata": {
    "colab": {
     "base_uri": "https://localhost:8080/",
     "height": 121
    },
    "colab_type": "code",
    "executionInfo": {
     "elapsed": 11738876,
     "status": "ok",
     "timestamp": 1595891196593,
     "user": {
      "displayName": "Alejandro Mora Rubio",
      "photoUrl": "",
      "userId": "07961288293677001436"
     },
     "user_tz": 300
    },
    "id": "dwDc08g-I_IR",
    "outputId": "3de77516-1f52-4256-d13f-a4530fbae0a1"
   },
   "outputs": [],
   "source": [
    "R_KNN = manual_cross_val(KNN, folds, labels)\n",
    "print('KNN: ', R_KNN[0], R_KNN[1])\n",
    "R_lr = manual_cross_val(lr, folds, labels)\n",
    "print('LR: ', R_lr[0], R_lr[1])\n",
    "R_NB = manual_cross_val(NB, folds, labels)\n",
    "print('NB: ', R_NB[0], R_NB[1])\n",
    "R_MLP = manual_cross_val(MLP, folds, labels)\n",
    "print('MLP: ', R_MLP[0], R_MLP[1])\n",
    "R_RF = manual_cross_val(RF, folds, labels)\n",
    "print('RF: ', R_RF[0], R_RF[1])\n",
    "R_DT = manual_cross_val(DT, folds, labels)\n",
    "print('DT: ', R_DT[0], R_DT[1])"
   ]
  }
 ],
 "metadata": {
  "accelerator": "GPU",
  "colab": {
   "collapsed_sections": [
    "-w6S7G8n8u3_",
    "gagzTZ0i8u4D",
    "AxzXxV1n8u4I",
    "NmiCy00f8u43",
    "NtE3KhHA8u48",
    "SWwJsgHR8u5A",
    "Kyg1Gw3r8u5I",
    "18JrDJ618u5N",
    "_GUswl288u5S",
    "LyjimEh68u5Y",
    "-9QnNR4X8u5b",
    "p5K7oaw-8u5t",
    "dhKsEzp68u59",
    "V2omIiWc8u6Y",
    "eUuBf8we8u6e",
    "00wHfcn98u6i",
    "6No0NC9Y8u6-",
    "O6CTTgzl8u7O",
    "GzxXkFIVOprm"
   ],
   "name": "Identification of hand movements from electromyographic signals using Machine Learning (Filtered).ipynb",
   "provenance": []
  },
  "kernelspec": {
   "display_name": "Python 3",
   "language": "python",
   "name": "python3"
  },
  "language_info": {
   "codemirror_mode": {
    "name": "ipython",
    "version": 3
   },
   "file_extension": ".py",
   "mimetype": "text/x-python",
   "name": "python",
   "nbconvert_exporter": "python",
   "pygments_lexer": "ipython3",
   "version": "3.10.6"
  }
 },
 "nbformat": 4,
 "nbformat_minor": 0
}
